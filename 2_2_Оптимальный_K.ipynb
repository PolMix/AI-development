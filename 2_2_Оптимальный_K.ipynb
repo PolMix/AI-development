{
  "nbformat": 4,
  "nbformat_minor": 0,
  "metadata": {
    "colab": {
      "provenance": [],
      "collapsed_sections": [],
      "include_colab_link": true
    },
    "kernelspec": {
      "name": "python3",
      "display_name": "Python 3"
    },
    "language_info": {
      "name": "python"
    }
  },
  "cells": [
    {
      "cell_type": "markdown",
      "metadata": {
        "id": "view-in-github",
        "colab_type": "text"
      },
      "source": [
        "<a href=\"https://colab.research.google.com/github/PolMix/AI-development/blob/main/2_2_%D0%9E%D0%BF%D1%82%D0%B8%D0%BC%D0%B0%D0%BB%D1%8C%D0%BD%D1%8B%D0%B9_K.ipynb\" target=\"_parent\"><img src=\"https://colab.research.google.com/assets/colab-badge.svg\" alt=\"Open In Colab\"/></a>"
      ]
    },
    {
      "cell_type": "markdown",
      "source": [
        "#Задача 2.2. Оптимальный K\n",
        "\n",
        "В этом задании Вам предлагается подобрать оптимальный K из диапазона [1,50] для решения задачи бинарной классификации на примере датасета breast_cancer. Этот датасет можно загрузить из модуля sklearn.datasets\n",
        "\n",
        "Качества оценивается при помощи метрики accuracy при помощи методики кросс-валидации. Об этой методике можно подробнее прочитать [в документации sklearn](https://scikit-learn.org/stable/modules/generated/sklearn.model_selection.cross_val_score.html)\n",
        "\n",
        "Мы предлагаем Вам заполнить недостающие команды в следующем скелете кода и получить оптимальное значение K. В ответе на задание необходимо указать это значение."
      ],
      "metadata": {
        "id": "IHJdGiLaA41g"
      }
    },
    {
      "cell_type": "code",
      "source": [
        "import sklearn\n",
        "import numpy as np\n",
        "from sklearn.metrics import accuracy_score\n",
        "from sklearn.model_selection import cross_val_score\n",
        "from sklearn.neighbors import KNeighborsClassifier\n",
        "random_seed = 4238\n",
        "\n",
        "np.random.seed(random_seed)\n",
        "n_splits = 3\n",
        "\n",
        "from sklearn.datasets import load_breast_cancer\n",
        "\n",
        "X, y = load_breast_cancer(return_X_y=True)\n",
        "\n",
        "\"\"\"\n",
        "  Здесь Вам предлагается написать тело цикла для подбора оптимального K\n",
        "  Результаты оценки алгоритма при каждом отдельно взятом K рекомендуем записывать в список cv_scores\n",
        "\"\"\"\n",
        "cv_scores = []\n",
        "for k in range(1,51):\n",
        "    #TODO: Write Your Code Here\n",
        "    pass\n",
        "\n",
        "\n",
        "print(np.argmax(cv_scores))"
      ],
      "metadata": {
        "id": "dAqbxYEsBBnZ"
      },
      "execution_count": null,
      "outputs": []
    },
    {
      "cell_type": "markdown",
      "source": [
        "## Примечания\n",
        "\n",
        "Замечание: обратите внимание, что np.argmax(cv_scores) возвращает ИНДЕКС наибольшего элемента массива. Индексация массивов начинается с нуля\n",
        "\n",
        "В данной задаче мы используем один из стандартных датасетов breast cancer. Доступ к этому датасету мы осуществляем при помощи вызова функции `load_breast_cancer`, аналогично тому, как мы это делали на лекции.\n",
        "\n",
        "Аргумент n_splits, в данной задаче равный 3, это количество разбиений датасета для проведения кроссвалидации. В качестве итоговой метрики возьмите **среднее** значение качества по всем разбиениям при проведении кроссвалидации."
      ],
      "metadata": {
        "id": "fH9lFKAYBFcg"
      }
    },
    {
      "cell_type": "code",
      "source": [],
      "metadata": {
        "id": "2mZHYKS2BLhr"
      },
      "execution_count": null,
      "outputs": []
    }
  ]
}